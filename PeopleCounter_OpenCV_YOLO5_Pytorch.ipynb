{
 "cells": [
  {
   "cell_type": "code",
   "execution_count": 3,
   "id": "0004809d",
   "metadata": {},
   "outputs": [
    {
     "name": "stderr",
     "output_type": "stream",
     "text": [
      "Using cache found in /Users/nitinsinghal/.cache/torch/hub/ultralytics_yolov5_master\n",
      "fatal: not a git repository (or any of the parent directories): .git\n",
      "YOLOv5 🚀 2022-4-10 torch 1.11.0 CPU\n",
      "\n",
      "Fusing layers... \n",
      "YOLOv5s summary: 213 layers, 7225885 parameters, 0 gradients\n",
      "Adding AutoShape... \n",
      "image 1/1: 720x1280 1 person\n",
      "Speed: 17.7ms pre-process, 329.3ms inference, 6.8ms NMS per image at shape (1, 3, 384, 640)\n"
     ]
    },
    {
     "name": "stdout",
     "output_type": "stream",
     "text": [
      "Frame: 1, Total no of people: 1\n"
     ]
    },
    {
     "name": "stderr",
     "output_type": "stream",
     "text": [
      "image 1/1: 720x1280 1 person, 1 chair\n",
      "Speed: 15.6ms pre-process, 334.3ms inference, 0.7ms NMS per image at shape (1, 3, 384, 640)\n"
     ]
    },
    {
     "name": "stdout",
     "output_type": "stream",
     "text": [
      "Frame: 2, Total no of people: 1\n"
     ]
    },
    {
     "name": "stderr",
     "output_type": "stream",
     "text": [
      "image 1/1: 720x1280 1 person, 1 chair\n",
      "Speed: 17.6ms pre-process, 327.3ms inference, 1.7ms NMS per image at shape (1, 3, 384, 640)\n"
     ]
    },
    {
     "name": "stdout",
     "output_type": "stream",
     "text": [
      "Frame: 3, Total no of people: 1\n"
     ]
    },
    {
     "name": "stderr",
     "output_type": "stream",
     "text": [
      "image 1/1: 720x1280 1 person, 1 chair\n",
      "Speed: 16.4ms pre-process, 336.1ms inference, 0.9ms NMS per image at shape (1, 3, 384, 640)\n"
     ]
    },
    {
     "name": "stdout",
     "output_type": "stream",
     "text": [
      "Frame: 4, Total no of people: 1\n"
     ]
    },
    {
     "name": "stderr",
     "output_type": "stream",
     "text": [
      "image 1/1: 720x1280 1 person\n",
      "Speed: 16.6ms pre-process, 315.4ms inference, 0.8ms NMS per image at shape (1, 3, 384, 640)\n"
     ]
    },
    {
     "name": "stdout",
     "output_type": "stream",
     "text": [
      "Frame: 5, Total no of people: 1\n"
     ]
    }
   ],
   "source": [
    "#!/usr/bin/env python\n",
    "# coding: utf-8\n",
    "\n",
    "# Computer Vision model for livestream frame people counter\n",
    "# Using OpenCV, YOLO5  from ultralytics, pytorch\n",
    "# YOLO5 used the COCO image dataset for training its model \n",
    "\n",
    "import cv2\n",
    "import torch\n",
    "from PIL import Image\n",
    "\n",
    "# Install the set of libraries as given in the requirements file to use ultralytics yolov5 model with pytorch\n",
    "# pip install -r https://raw.githubusercontent.com/ultralytics/yolov5/master/requirements.txt\n",
    "\n",
    "# Model\n",
    "model = torch.hub.load('ultralytics/yolov5', 'yolov5s')\n",
    "\n",
    "cap = cv2.VideoCapture(0)\n",
    "\n",
    "if not cap.isOpened():\n",
    "    print(\"Cannot open camera\")\n",
    "    exit()\n",
    "\n",
    "i = 0\n",
    "\n",
    "while True:\n",
    "    # Capture image from camera frame by frame\n",
    "    ret, frame = cap.read()\n",
    "    # if frame is read correctly ret is True\n",
    "    if not ret:\n",
    "        print(\"Can't capture frame from stream. Exit...\")\n",
    "        break\n",
    "\n",
    "    # Save each frame to drive using imwrite method\n",
    "    cv2.imwrite('/PersonImage'+str(i)+'.jpg', frame)\n",
    "    \n",
    "    # Images\n",
    "    im1 = Image.open('/PersonImage'+str(i)+'.jpg')  # PIL image\n",
    "    imgs = [im1]  # batch of images\n",
    "\n",
    "    # Inference\n",
    "    results = model(imgs, size=640)  # includes NMS\n",
    "\n",
    "    # Results\n",
    "    results.print()\n",
    "    results.show()\n",
    "    \n",
    "    # im1 predictions (pandas)\n",
    "    j = 0\n",
    "    for k in range(len(results.pandas().xyxy[0])):\n",
    "        if(results.pandas().xyxy[0]['name'][k] == 'person'):\n",
    "            j += 1\n",
    "\n",
    "    i += 1\n",
    "    \n",
    "    print('Frame: %s, Total no of people: %s'%(i,j))\n",
    "    \n",
    "    if i==5 :\n",
    "        break\n",
    "\n",
    "# Release the camera capture object after exiting\n",
    "cap.release()\n",
    "cv2.destroyAllWindows()\n",
    "\n"
   ]
  },
  {
   "cell_type": "code",
   "execution_count": null,
   "id": "151f8e72",
   "metadata": {},
   "outputs": [],
   "source": []
  }
 ],
 "metadata": {
  "kernelspec": {
   "display_name": "Python 3 (ipykernel)",
   "language": "python",
   "name": "python3"
  },
  "language_info": {
   "codemirror_mode": {
    "name": "ipython",
    "version": 3
   },
   "file_extension": ".py",
   "mimetype": "text/x-python",
   "name": "python",
   "nbconvert_exporter": "python",
   "pygments_lexer": "ipython3",
   "version": "3.9.12"
  }
 },
 "nbformat": 4,
 "nbformat_minor": 5
}
